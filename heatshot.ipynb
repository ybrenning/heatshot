{
 "cells": [
  {
   "cell_type": "code",
   "execution_count": 1,
   "id": "bb7064ab-4a7f-45d3-a544-ec71ca7bd73b",
   "metadata": {},
   "outputs": [],
   "source": [
    "import numpy as np\n",
    "import matplotlib.pyplot as plt\n",
    "from sklearn.neighbors import KernelDensity"
   ]
  },
  {
   "cell_type": "code",
   "execution_count": 2,
   "id": "c8896db0-a220-4da8-bd27-990796de20f3",
   "metadata": {},
   "outputs": [],
   "source": [
    "x = np.load(\"data/xs.npy\")\n",
    "y = np.load(\"data/ys.npy\")\n"
   ]
  },
  {
   "cell_type": "code",
   "execution_count": null,
   "id": "cb27c668-6145-4aba-b1cb-1393e7d30bc9",
   "metadata": {},
   "outputs": [],
   "source": [
    "data = np.vstack([x, y]).T  # Transpose to shape (n_samples, n_features)\n",
    "\n",
    "# Instantiate and fit the kernel density estimator\n",
    "kde = KernelDensity(bandwidth=5, kernel='epanechnikov')\n",
    "kde.fit(data)\n",
    "\n",
    "# Create a grid of points to evaluate the KDE over\n",
    "xmin, xmax = np.min(x), np.max(x)\n",
    "ymin, ymax = np.min(y), np.max(y)"
   ]
  }
 ],
 "metadata": {
  "kernelspec": {
   "display_name": "Python 3 (ipykernel)",
   "language": "python",
   "name": "python3"
  },
  "language_info": {
   "codemirror_mode": {
    "name": "ipython",
    "version": 3
   },
   "file_extension": ".py",
   "mimetype": "text/x-python",
   "name": "python",
   "nbconvert_exporter": "python",
   "pygments_lexer": "ipython3",
   "version": "3.10.12"
  }
 },
 "nbformat": 4,
 "nbformat_minor": 5
}
